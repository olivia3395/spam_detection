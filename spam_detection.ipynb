{
 "cells": [
  {
   "cell_type": "markdown",
   "id": "54e4e1e3",
   "metadata": {},
   "source": [
    "\n",
    "# Spam Detection\n",
    "\n",
    "**Author**: Yuyao Wang\n",
    "\n",
    "**Date**: June 2024  \n",
    "\n",
    "\n",
    "## Objective\n",
    "To build a spam detection system that identifies whether a given SMS message is spam or not. This project uses classic NLP techniques for text preprocessing and feature extraction, combined with machine learning models like Naive Bayes.\n"
   ]
  },
  {
   "cell_type": "markdown",
   "id": "9568b73a",
   "metadata": {},
   "source": [
    "\n",
    "## **Project Steps**\n",
    "1. **Data Loading and Exploration**  \n",
    "   We use a public dataset containing SMS messages labeled as \"spam\" or \"ham\" (not spam).  \n",
    "2. **Data Preprocessing**  \n",
    "   Clean and standardize text data to remove noise.  \n",
    "3. **Feature Extraction**  \n",
    "   Convert text data into numeric features using TF-IDF vectorization.  \n",
    "4. **Model Training**  \n",
    "   Train a Naive Bayes classifier to classify messages as spam or ham.  \n",
    "5. **Model Evaluation**  \n",
    "   Evaluate the trained model using metrics like accuracy, precision, recall, and F1-score.  \n",
    "6. **Testing and Deployment**  \n",
    "   Create a function to predict whether new messages are spam or ham.\n",
    "\n",
    "\n"
   ]
  },
  {
   "cell_type": "code",
   "execution_count": 1,
   "id": "f3b2cab4",
   "metadata": {},
   "outputs": [],
   "source": [
    "# Import required libraries\n",
    "import pandas as pd\n",
    "import numpy as np\n",
    "import re  # For text preprocessing\n",
    "from sklearn.model_selection import train_test_split\n",
    "from sklearn.feature_extraction.text import TfidfVectorizer\n",
    "from sklearn.naive_bayes import MultinomialNB\n",
    "from sklearn.metrics import classification_report, accuracy_score, confusion_matrix\n"
   ]
  },
  {
   "cell_type": "code",
   "execution_count": 2,
   "id": "eec7e1fe",
   "metadata": {},
   "outputs": [
    {
     "name": "stdout",
     "output_type": "stream",
     "text": [
      "Dataset Preview:\n",
      "  label                                            message\n",
      "0   ham  Go until jurong point, crazy.. Available only ...\n",
      "1   ham                      Ok lar... Joking wif u oni...\n",
      "2  spam  Free entry in 2 a wkly comp to win FA Cup fina...\n",
      "3   ham  U dun say so early hor... U c already then say...\n",
      "4   ham  Nah I don't think he goes to usf, he lives aro...\n",
      "\n",
      "Class Distribution:\n",
      "ham     4825\n",
      "spam     747\n",
      "Name: label, dtype: int64\n"
     ]
    }
   ],
   "source": [
    "\n",
    "\n",
    "# Load the SMS Spam Collection dataset\n",
    "def load_data():\n",
    "    # Public dataset URL (you can replace this with a local file path)\n",
    "    url = \"https://raw.githubusercontent.com/justmarkham/pycon-2016-tutorial/master/data/sms.tsv\"\n",
    "    # Load the data into a Pandas DataFrame\n",
    "    data = pd.read_csv(url, sep='\\t', header=None, names=['label', 'message'])\n",
    "    return data\n",
    "\n",
    "# Load the data\n",
    "data = load_data()\n",
    "\n",
    "# Display basic information about the dataset\n",
    "print(\"Dataset Preview:\")\n",
    "print(data.head())\n",
    "print(\"\\nClass Distribution:\")\n",
    "print(data['label'].value_counts())\n",
    "\n"
   ]
  },
  {
   "cell_type": "markdown",
   "id": "03089a3e",
   "metadata": {},
   "source": [
    "### 2. Data Preprocessing\n",
    "#### Steps:\n",
    "1. Convert text to lowercase.\n",
    "2. Remove punctuation and special characters.\n",
    "3. Remove extra whitespace."
   ]
  },
  {
   "cell_type": "code",
   "execution_count": 3,
   "id": "391d91d4",
   "metadata": {},
   "outputs": [
    {
     "name": "stdout",
     "output_type": "stream",
     "text": [
      "\n",
      "Cleaned Messages Preview:\n",
      "                                             message  \\\n",
      "0  Go until jurong point, crazy.. Available only ...   \n",
      "1                      Ok lar... Joking wif u oni...   \n",
      "2  Free entry in 2 a wkly comp to win FA Cup fina...   \n",
      "3  U dun say so early hor... U c already then say...   \n",
      "4  Nah I don't think he goes to usf, he lives aro...   \n",
      "\n",
      "                                     cleaned_message  \n",
      "0  go until jurong point crazy available only in ...  \n",
      "1                            ok lar joking wif u oni  \n",
      "2  free entry in 2 a wkly comp to win fa cup fina...  \n",
      "3        u dun say so early hor u c already then say  \n",
      "4  nah i don t think he goes to usf he lives arou...  \n"
     ]
    }
   ],
   "source": [
    "def preprocess_text(text):\n",
    "    # Remove non-alphanumeric characters and convert to lowercase\n",
    "    text = re.sub(r'\\W', ' ', text)  # Replace non-word characters with space\n",
    "    text = re.sub(r'\\s+', ' ', text)  # Remove extra spaces\n",
    "    text = text.strip().lower()  # Trim and convert to lowercase\n",
    "    return text\n",
    "\n",
    "# Apply preprocessing to the message column\n",
    "data['cleaned_message'] = data['message'].apply(preprocess_text)\n",
    "\n",
    "# Preview cleaned data\n",
    "print(\"\\nCleaned Messages Preview:\")\n",
    "print(data[['message', 'cleaned_message']].head())"
   ]
  },
  {
   "cell_type": "markdown",
   "id": "30fc26c6",
   "metadata": {},
   "source": [
    "\n",
    "### **3. Feature Extraction**\n",
    "We use **TF-IDF (Term Frequency-Inverse Document Frequency)** to convert text into numerical features.  \n",
    "- TF-IDF captures the importance of words while reducing the weight of commonly occurring words.\n"
   ]
  },
  {
   "cell_type": "code",
   "execution_count": 4,
   "id": "e209f6af",
   "metadata": {},
   "outputs": [],
   "source": [
    "# Initialize a TfidfVectorizer with stop words removal\n",
    "vectorizer = TfidfVectorizer(max_features=3000, stop_words='english')\n",
    "\n",
    "# Convert text to feature vectors\n",
    "X = vectorizer.fit_transform(data['cleaned_message']).toarray()\n",
    "\n",
    "# Convert labels to binary values (1 for spam, 0 for ham)\n",
    "y = np.where(data['label'] == 'spam', 1, 0)"
   ]
  },
  {
   "cell_type": "markdown",
   "id": "6c7dd621",
   "metadata": {},
   "source": [
    "\n",
    "### **4. Train-Test Split**\n",
    "Split the dataset into training and testing sets to evaluate the model's performance.\n"
   ]
  },
  {
   "cell_type": "code",
   "execution_count": 5,
   "id": "5110a6bc",
   "metadata": {},
   "outputs": [
    {
     "name": "stdout",
     "output_type": "stream",
     "text": [
      "Training samples: 4457, Testing samples: 1115\n"
     ]
    }
   ],
   "source": [
    "# Split the dataset (80% training, 20% testing)\n",
    "X_train, X_test, y_train, y_test = train_test_split(X, y, test_size=0.2, random_state=42)\n",
    "\n",
    "print(f\"Training samples: {len(X_train)}, Testing samples: {len(X_test)}\")"
   ]
  },
  {
   "cell_type": "markdown",
   "id": "bb2254f7",
   "metadata": {},
   "source": [
    "### **5. Model Training**\n",
    "We use **Multinomial Naive Bayes**, which is well-suited for text classification tasks.  \n",
    "Naive Bayes assumes word occurrences are independent, which often works well in NLP tasks.\n"
   ]
  },
  {
   "cell_type": "code",
   "execution_count": 6,
   "id": "73f26edc",
   "metadata": {},
   "outputs": [
    {
     "name": "stdout",
     "output_type": "stream",
     "text": [
      "Model training complete!\n"
     ]
    }
   ],
   "source": [
    "# Initialize and train the Naive Bayes model\n",
    "model = MultinomialNB()\n",
    "model.fit(X_train, y_train)\n",
    "\n",
    "print(\"Model training complete!\")"
   ]
  },
  {
   "cell_type": "markdown",
   "id": "b13a86db",
   "metadata": {},
   "source": [
    "\n",
    "### **6. Model Evaluation**\n",
    "Evaluate the model using metrics such as accuracy, precision, recall, and F1-score. A confusion matrix is also included for further insight.\n"
   ]
  },
  {
   "cell_type": "code",
   "execution_count": 7,
   "id": "422a4f16",
   "metadata": {},
   "outputs": [
    {
     "name": "stdout",
     "output_type": "stream",
     "text": [
      "\n",
      "Model Evaluation:\n",
      "Accuracy: 0.9865\n",
      "\n",
      "Classification Report:\n",
      "              precision    recall  f1-score   support\n",
      "\n",
      "           0       0.98      1.00      0.99       966\n",
      "           1       1.00      0.90      0.95       149\n",
      "\n",
      "    accuracy                           0.99      1115\n",
      "   macro avg       0.99      0.95      0.97      1115\n",
      "weighted avg       0.99      0.99      0.99      1115\n",
      "\n",
      "\n",
      "Confusion Matrix:\n",
      "[[966   0]\n",
      " [ 15 134]]\n"
     ]
    }
   ],
   "source": [
    "# Predict on the test set\n",
    "y_pred = model.predict(X_test)\n",
    "\n",
    "# Evaluate performance\n",
    "print(\"\\nModel Evaluation:\")\n",
    "print(f\"Accuracy: {accuracy_score(y_test, y_pred):.4f}\")\n",
    "print(\"\\nClassification Report:\")\n",
    "print(classification_report(y_test, y_pred))\n",
    "\n",
    "# Display the confusion matrix\n",
    "print(\"\\nConfusion Matrix:\")\n",
    "print(confusion_matrix(y_test, y_pred))"
   ]
  },
  {
   "cell_type": "markdown",
   "id": "b72d5231",
   "metadata": {},
   "source": [
    "\n",
    "### **7. Testing with New Data**\n",
    "Create a reusable function to classify new messages as spam or ham.\n"
   ]
  },
  {
   "cell_type": "code",
   "execution_count": 8,
   "id": "9a03f56e",
   "metadata": {},
   "outputs": [
    {
     "name": "stdout",
     "output_type": "stream",
     "text": [
      "Message: 'Congratulations! You've won a free ticket to Bahamas. Call now!' --> Spam\n",
      "Message: 'Hey, are we still meeting tomorrow?' --> Not Spam\n"
     ]
    }
   ],
   "source": [
    "# Define a prediction function\n",
    "def predict_spam(message):\n",
    "    # Preprocess the input message\n",
    "    cleaned = preprocess_text(message)\n",
    "    # Transform the message into a feature vector\n",
    "    features = vectorizer.transform([cleaned]).toarray()\n",
    "    # Make prediction\n",
    "    prediction = model.predict(features)[0]\n",
    "    return \"Spam\" if prediction == 1 else \"Not Spam\"\n",
    "\n",
    "# Test the function with example messages\n",
    "test_message = \"Congratulations! You've won a free ticket to Bahamas. Call now!\"\n",
    "print(f\"Message: '{test_message}' --> {predict_spam(test_message)}\")\n",
    "\n",
    "test_message_2 = \"Hey, are we still meeting tomorrow?\"\n",
    "print(f\"Message: '{test_message_2}' --> {predict_spam(test_message_2)}\")"
   ]
  },
  {
   "cell_type": "markdown",
   "id": "de100639",
   "metadata": {},
   "source": [
    "\n",
    "# **Spam Detection Project Without Labels**\n",
    "\n",
    "### **Objective**\n",
    "To build a spam detection system using unsupervised learning techniques, such as clustering or anomaly detection. This approach avoids the need for labeled data and identifies spam messages based on their differences from the majority of messages.\n"
   ]
  },
  {
   "cell_type": "markdown",
   "id": "99215af8",
   "metadata": {},
   "source": [
    "\n",
    "\n",
    "\n",
    "## **Approach**\n",
    "1. **Text Preprocessing**  \n",
    "   Clean the text data to remove noise and prepare it for feature extraction.  \n",
    "2. **Feature Extraction**  \n",
    "   Convert text into numerical vectors using techniques like TF-IDF.  \n",
    "3. **Clustering or Anomaly Detection**  \n",
    "   Use clustering (e.g., K-Means) or anomaly detection (e.g., Isolation Forest) to group similar messages or identify outliers (potential spam).  \n",
    "4. **Evaluation**  \n",
    "   Assess the performance qualitatively (e.g., manual inspection or domain expertise).\n"
   ]
  },
  {
   "cell_type": "code",
   "execution_count": 9,
   "id": "bd2fb4a6",
   "metadata": {},
   "outputs": [],
   "source": [
    "\n",
    "\n",
    "# Import required libraries\n",
    "import pandas as pd\n",
    "import numpy as np\n",
    "import re  # For text preprocessing\n",
    "from sklearn.feature_extraction.text import TfidfVectorizer\n",
    "from sklearn.cluster import KMeans\n",
    "from sklearn.ensemble import IsolationForest\n",
    "from sklearn.decomposition import PCA\n",
    "import matplotlib.pyplot as plt\n"
   ]
  },
  {
   "cell_type": "code",
   "execution_count": 10,
   "id": "a365de63",
   "metadata": {},
   "outputs": [
    {
     "name": "stdout",
     "output_type": "stream",
     "text": [
      "Sample Messages:\n",
      "0    Go until jurong point, crazy.. Available only ...\n",
      "1                        Ok lar... Joking wif u oni...\n",
      "2    Free entry in 2 a wkly comp to win FA Cup fina...\n",
      "3    U dun say so early hor... U c already then say...\n",
      "4    Nah I don't think he goes to usf, he lives aro...\n",
      "Name: message, dtype: object\n"
     ]
    }
   ],
   "source": [
    "\n",
    "# Load the SMS dataset (no labels needed here)\n",
    "def load_data():\n",
    "    # Public dataset URL (or use a local file)\n",
    "    url = \"https://raw.githubusercontent.com/justmarkham/pycon-2016-tutorial/master/data/sms.tsv\"\n",
    "    data = pd.read_csv(url, sep='\\t', header=None, names=['label', 'message'])\n",
    "    return data['message']  # Only return the messages (ignore labels)\n",
    "\n",
    "# Load the messages\n",
    "messages = load_data()\n",
    "\n",
    "# Display the first few messages\n",
    "print(\"Sample Messages:\")\n",
    "print(messages.head())"
   ]
  },
  {
   "cell_type": "markdown",
   "id": "e5e1bf4b",
   "metadata": {},
   "source": [
    "\n",
    "### Text Preprocessing\n",
    "\n",
    "#### Steps:\n",
    "1. Remove punctuation and convert text to lowercase.\n",
    "2. Remove extra whitespace or special characters."
   ]
  },
  {
   "cell_type": "code",
   "execution_count": 11,
   "id": "4973bc07",
   "metadata": {},
   "outputs": [
    {
     "name": "stdout",
     "output_type": "stream",
     "text": [
      "\n",
      "Cleaned Messages:\n",
      "0    go until jurong point crazy available only in ...\n",
      "1                              ok lar joking wif u oni\n",
      "2    free entry in 2 a wkly comp to win fa cup fina...\n",
      "3          u dun say so early hor u c already then say\n",
      "4    nah i don t think he goes to usf he lives arou...\n",
      "Name: message, dtype: object\n"
     ]
    }
   ],
   "source": [
    "\n",
    "# Define a text preprocessing function\n",
    "def preprocess_text(text):\n",
    "    # Remove non-alphanumeric characters and convert to lowercase\n",
    "    text = re.sub(r'\\W', ' ', text)  # Replace non-word characters with spaces\n",
    "    text = re.sub(r'\\s+', ' ', text)  # Remove extra spaces\n",
    "    text = text.strip().lower()  # Trim and convert to lowercase\n",
    "    return text\n",
    "\n",
    "# Apply preprocessing to all messages\n",
    "cleaned_messages = messages.apply(preprocess_text)\n",
    "\n",
    "# Display preprocessed messages\n",
    "print(\"\\nCleaned Messages:\")\n",
    "print(cleaned_messages.head())"
   ]
  },
  {
   "cell_type": "markdown",
   "id": "e6df8f65",
   "metadata": {},
   "source": [
    "\n",
    "### Feature Extraction\n",
    "\n",
    "#### Use TF-IDF Vectorizer:\n",
    "- TF-IDF converts text data into numerical vectors while reducing the importance of frequently occurring words.\n"
   ]
  },
  {
   "cell_type": "code",
   "execution_count": 12,
   "id": "10f8e6e0",
   "metadata": {},
   "outputs": [
    {
     "name": "stdout",
     "output_type": "stream",
     "text": [
      "\n",
      "Feature Matrix Shape: (5572, 3000)\n"
     ]
    }
   ],
   "source": [
    "\n",
    "# Initialize the TF-IDF vectorizer\n",
    "vectorizer = TfidfVectorizer(max_features=3000, stop_words='english')\n",
    "\n",
    "# Transform messages into feature vectors\n",
    "X = vectorizer.fit_transform(cleaned_messages).toarray()\n",
    "\n",
    "print(f\"\\nFeature Matrix Shape: {X.shape}\")  # Rows = messages, Columns = features"
   ]
  },
  {
   "cell_type": "markdown",
   "id": "3528ea8b",
   "metadata": {},
   "source": [
    "\n",
    "### Unsupervised Spam Detection\n",
    "\n",
    "#### **Option A: Clustering with K-Means**\n",
    "K-Means groups messages into clusters, which we can inspect manually to identify spam groups.\n"
   ]
  },
  {
   "cell_type": "code",
   "execution_count": 13,
   "id": "adc0ef97",
   "metadata": {},
   "outputs": [
    {
     "name": "stdout",
     "output_type": "stream",
     "text": [
      "\n",
      "Sample Messages in Cluster 0:\n",
      "                                               message  cluster\n",
      "41   Did I forget to tell you ? I want you , I need...        0\n",
      "66   Today is \"song dedicated day..\" Which song wil...        0\n",
      "105       Umma my life and vava umma love you lot dear        0\n",
      "116  As I entered my cabin my PA said, '' Happy B'd...        0\n",
      "126                               Good stuff, will do.        0\n",
      "\n",
      "Sample Messages in Cluster 1:\n",
      "                                             message  cluster\n",
      "0  Go until jurong point, crazy.. Available only ...        1\n",
      "1                      Ok lar... Joking wif u oni...        1\n",
      "2  Free entry in 2 a wkly comp to win FA Cup fina...        1\n",
      "3  U dun say so early hor... U c already then say...        1\n",
      "4  Nah I don't think he goes to usf, he lives aro...        1\n"
     ]
    }
   ],
   "source": [
    "# Apply K-Means clustering\n",
    "n_clusters = 2  # Assume 2 clusters: spam and non-spam\n",
    "kmeans = KMeans(n_clusters=n_clusters, random_state=42)\n",
    "kmeans.fit(X)\n",
    "\n",
    "# Assign cluster labels to messages\n",
    "clusters = kmeans.labels_\n",
    "messages_with_clusters = pd.DataFrame({'message': messages, 'cluster': clusters})\n",
    "\n",
    "# Inspect the clusters\n",
    "print(\"\\nSample Messages in Cluster 0:\")\n",
    "print(messages_with_clusters[messages_with_clusters['cluster'] == 0].head())\n",
    "\n",
    "print(\"\\nSample Messages in Cluster 1:\")\n",
    "print(messages_with_clusters[messages_with_clusters['cluster'] == 1].head())"
   ]
  },
  {
   "cell_type": "markdown",
   "id": "8e762aba",
   "metadata": {},
   "source": [
    "\n",
    "#### Anomaly Detection with Isolation Forest\n",
    "Isolation Forest detects outliers in the data, which can correspond to spam messages.\n"
   ]
  },
  {
   "cell_type": "code",
   "execution_count": 14,
   "id": "1bb99f90",
   "metadata": {},
   "outputs": [
    {
     "name": "stdout",
     "output_type": "stream",
     "text": [
      "\n",
      "Sample Anomalous Messages (Potential Spam):\n",
      "                                              message  outlier\n",
      "2   Free entry in 2 a wkly comp to win FA Cup fina...       -1\n",
      "9   Had your mobile 11 months or more? U R entitle...       -1\n",
      "11  SIX chances to win CASH! From 100 to 20,000 po...       -1\n",
      "12  URGENT! You have won a 1 week FREE membership ...       -1\n",
      "35  Yup... Ok i go home look at the timings then i...       -1\n"
     ]
    }
   ],
   "source": [
    "\n",
    "# Apply Isolation Forest\n",
    "isolation_forest = IsolationForest(n_estimators=100, contamination=0.1, random_state=42)\n",
    "outliers = isolation_forest.fit_predict(X)\n",
    "\n",
    "# Add the outlier labels to the dataset\n",
    "messages_with_outliers = pd.DataFrame({'message': messages, 'outlier': outliers})\n",
    "\n",
    "# Outlier label: -1 = anomaly (potential spam), 1 = normal\n",
    "print(\"\\nSample Anomalous Messages (Potential Spam):\")\n",
    "print(messages_with_outliers[messages_with_outliers['outlier'] == -1].head())\n",
    "\n",
    "\n"
   ]
  },
  {
   "cell_type": "code",
   "execution_count": 15,
   "id": "514b305a",
   "metadata": {},
   "outputs": [
    {
     "data": {
      "image/png": "[encoded data removed]",
      "text/plain": [
       "<Figure size 640x480 with 1 Axes>"
      ]
     },
     "metadata": {},
     "output_type": "display_data"
    },
    {
     "data": {
      "image/png": "[encoded data removed]",
      "text/plain": [
       "<Figure size 640x480 with 1 Axes>"
      ]
     },
     "metadata": {},
     "output_type": "display_data"
    }
   ],
   "source": [
    "\n",
    "#### Use PCA for dimensionality reduction and plot the clusters or outliers.\n",
    "\n",
    "# Reduce dimensions for visualization\n",
    "pca = PCA(n_components=2)\n",
    "X_reduced = pca.fit_transform(X)\n",
    "\n",
    "# Plot clusters (for K-Means)\n",
    "plt.scatter(X_reduced[:, 0], X_reduced[:, 1], c=clusters, cmap='viridis', alpha=0.7)\n",
    "plt.title(\"K-Means Clustering\")\n",
    "plt.xlabel(\"PCA Component 1\")\n",
    "plt.ylabel(\"PCA Component 2\")\n",
    "plt.show()\n",
    "\n",
    "# Plot outliers (for Isolation Forest)\n",
    "plt.scatter(X_reduced[:, 0], X_reduced[:, 1], c=outliers, cmap='coolwarm', alpha=0.7)\n",
    "plt.title(\"Isolation Forest Outliers\")\n",
    "plt.xlabel(\"PCA Component 1\")\n",
    "plt.ylabel(\"PCA Component 2\")\n",
    "plt.show()"
   ]
  },
  {
   "cell_type": "markdown",
   "id": "6a086669",
   "metadata": {},
   "source": [
    "### **Evaluation of the Two Plots**\n",
    "\n",
    "#### **1. K-Means Clustering (First Plot)**\n",
    "\n",
    "- The plot uses **PCA** to reduce the feature space of TF-IDF vectors into two components for visualization. Yellow and dark purple points represent the two clusters identified by the K-Means algorithm.\n",
    "\n",
    "\n",
    "- The majority of data points are grouped in the large yellow cluster, while the dark purple cluster is much smaller. This likely reflects the natural imbalance in the SMS dataset, where spam messages are typically fewer than ham messages. The separation between the clusters is not very distinct, as there is significant overlap between the two groups in the reduced space.\n",
    "\n",
    "\n",
    "\n",
    "#### **2. Isolation Forest Outliers (Second Plot)**\n",
    "\n",
    "\n",
    "- Red points likely represent inliers (ham messages), while blue points represent detected outliers (potential spam messages).  Like the first plot, PCA is used for dimensionality reduction.\n",
    "\n",
    "\n",
    "- Isolation Forest effectively identifies outliers scattered in low-density regions of the plot, as evidenced by the blue points dispersed away from dense red clusters. The majority of blue points are concentrated in regions overlapping with red points, suggesting potential false positives in detecting spam.\n",
    "\n",
    "\n",
    "- Isolation Forest is sensitive to contamination hyperparameters, which control the expected proportion of anomalies. The setting here may have led to over-detection of outliers. Some inliers close to the boundary regions may be incorrectly flagged as anomalies, reducing the precision of spam detection.\n",
    "\n",
    "\n",
    "\n",
    "#### **Conclusion**\n",
    "- The **K-Means Clustering** plot shows suboptimal separation, which may lead to higher misclassification rates. It’s better suited for balanced datasets or combined with post-clustering alignment techniques.\n",
    "- The **Isolation Forest** plot demonstrates a reasonable ability to detect outliers, though its performance depends heavily on tuning and may need additional refinement for imbalanced data.\n",
    "\n",
    "\n"
   ]
  },
  {
   "cell_type": "code",
   "execution_count": 16,
   "id": "547cfb7c",
   "metadata": {},
   "outputs": [],
   "source": [
    "\n",
    "#### Load Real Labels\n",
    "\n",
    "# Reload dataset to include true labels\n",
    "url = \"https://raw.githubusercontent.com/justmarkham/pycon-2016-tutorial/master/data/sms.tsv\"\n",
    "data_with_labels = pd.read_csv(url, sep='\\t', header=None, names=['label', 'message'])\n",
    "\n",
    "# Preprocess text again (if needed)\n",
    "data_with_labels['cleaned_message'] = data_with_labels['message'].apply(preprocess_text)\n",
    "\n",
    "# True labels: Convert to binary (1 for spam, 0 for ham)\n",
    "true_labels = np.where(data_with_labels['label'] == 'spam', 1, 0)\n"
   ]
  },
  {
   "cell_type": "markdown",
   "id": "208a93e8",
   "metadata": {},
   "source": [
    "\n",
    "#### Evaluation for K-Means Clustering\n",
    "Here, we align clusters with real labels by finding the dominant true label in each cluster (using a mapping). This allows us to calculate classification metrics.\n"
   ]
  },
  {
   "cell_type": "code",
   "execution_count": 17,
   "id": "3b164cc2",
   "metadata": {},
   "outputs": [
    {
     "name": "stdout",
     "output_type": "stream",
     "text": [
      "\n",
      "K-Means Clustering Evaluation:\n",
      "Accuracy: 0.8659\n",
      "Classification Report:\n",
      "              precision    recall  f1-score   support\n",
      "\n",
      "           0       0.87      1.00      0.93      4825\n",
      "           1       0.00      0.00      0.00       747\n",
      "\n",
      "    accuracy                           0.87      5572\n",
      "   macro avg       0.43      0.50      0.46      5572\n",
      "weighted avg       0.75      0.87      0.80      5572\n",
      "\n"
     ]
    },
    {
     "name": "stderr",
     "output_type": "stream",
     "text": [
      "/Users/yuyao/anaconda3/lib/python3.11/site-packages/sklearn/metrics/_classification.py:1531: UndefinedMetricWarning: Precision is ill-defined and being set to 0.0 in labels with no predicted samples. Use `zero_division` parameter to control this behavior.\n",
      "  _warn_prf(average, modifier, f\"{metric.capitalize()} is\", len(result))\n",
      "/Users/yuyao/anaconda3/lib/python3.11/site-packages/sklearn/metrics/_classification.py:1531: UndefinedMetricWarning: Precision is ill-defined and being set to 0.0 in labels with no predicted samples. Use `zero_division` parameter to control this behavior.\n",
      "  _warn_prf(average, modifier, f\"{metric.capitalize()} is\", len(result))\n",
      "/Users/yuyao/anaconda3/lib/python3.11/site-packages/sklearn/metrics/_classification.py:1531: UndefinedMetricWarning: Precision is ill-defined and being set to 0.0 in labels with no predicted samples. Use `zero_division` parameter to control this behavior.\n",
      "  _warn_prf(average, modifier, f\"{metric.capitalize()} is\", len(result))\n"
     ]
    }
   ],
   "source": [
    "from sklearn.metrics import classification_report, accuracy_score\n",
    "\n",
    "# Align cluster labels with true labels\n",
    "def align_clusters_with_labels(true_labels, predicted_clusters):\n",
    "    mapping = {}\n",
    "    for cluster in np.unique(predicted_clusters):\n",
    "        # Find the most common true label in this cluster\n",
    "        dominant_label = np.bincount(true_labels[predicted_clusters == cluster]).argmax()\n",
    "        mapping[cluster] = dominant_label\n",
    "    return np.array([mapping[cluster] for cluster in predicted_clusters])\n",
    "\n",
    "# Map predicted clusters to real labels\n",
    "aligned_clusters = align_clusters_with_labels(true_labels, clusters)\n",
    "\n",
    "# Evaluate the performance\n",
    "print(\"\\nK-Means Clustering Evaluation:\")\n",
    "print(f\"Accuracy: {accuracy_score(true_labels, aligned_clusters):.4f}\")\n",
    "print(\"Classification Report:\")\n",
    "print(classification_report(true_labels, aligned_clusters))"
   ]
  },
  {
   "cell_type": "markdown",
   "id": "6c22d5c7",
   "metadata": {},
   "source": [
    "\n",
    "#### Evaluation for Isolation Forest\n",
    "The Isolation Forest outputs `-1` for outliers (potential spam) and `1` for inliers (ham). We convert these to match our true label convention (1 for spam, 0 for ham) and evaluate.\n"
   ]
  },
  {
   "cell_type": "code",
   "execution_count": 18,
   "id": "6bf85a51",
   "metadata": {},
   "outputs": [
    {
     "name": "stdout",
     "output_type": "stream",
     "text": [
      "\n",
      "Isolation Forest Evaluation:\n",
      "Accuracy: 0.8733\n",
      "Classification Report:\n",
      "              precision    recall  f1-score   support\n",
      "\n",
      "           0       0.91      0.95      0.93      4825\n",
      "           1       0.54      0.40      0.46       747\n",
      "\n",
      "    accuracy                           0.87      5572\n",
      "   macro avg       0.72      0.67      0.69      5572\n",
      "weighted avg       0.86      0.87      0.87      5572\n",
      "\n"
     ]
    }
   ],
   "source": [
    "\n",
    "# Convert Isolation Forest output to match true label format\n",
    "predicted_labels = np.where(outliers == -1, 1, 0)\n",
    "\n",
    "# Evaluate the performance\n",
    "print(\"\\nIsolation Forest Evaluation:\")\n",
    "print(f\"Accuracy: {accuracy_score(true_labels, predicted_labels):.4f}\")\n",
    "print(\"Classification Report:\")\n",
    "print(classification_report(true_labels, predicted_labels))"
   ]
  },
  {
   "cell_type": "code",
   "execution_count": null,
   "id": "0933151b",
   "metadata": {},
   "outputs": [],
   "source": []
  }
 ],
 "metadata": {
  "kernelspec": {
   "display_name": "Python 3 (ipykernel)",
   "language": "python",
   "name": "python3"
  },
  "language_info": {
   "codemirror_mode": {
    "name": "ipython",
    "version": 3
   },
   "file_extension": ".py",
   "mimetype": "text/x-python",
   "name": "python",
   "nbconvert_exporter": "python",
   "pygments_lexer": "ipython3",
   "version": "3.11.8"
  }
 },
 "nbformat": 4,
 "nbformat_minor": 5
}
